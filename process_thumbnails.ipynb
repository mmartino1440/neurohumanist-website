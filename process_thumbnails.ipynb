# process_thumbnails.ipynb

import pandas as pd
from PIL import Image
import os

# --- Configuration ---
# Path to your CSV file
CSV_FILE = 'animal_thumbnail_cropping.xlsx - Sheet1.csv' # Make sure this file is in the same directory as this script, or provide full path

# Directory where your original, full-size animal images are stored
# Example: If your images are in 'my-behavior-zoo/public/assets/original_images/'
ORIGINAL_IMAGES_DIR = 'my-behavior-zoo/public/assets/original_images/'

# Directory where the processed thumbnails will be saved
# This should be a subfolder within your public/assets/animals/
OUTPUT_THUMBNAILS_DIR = 'my-behavior-zoo/public/assets/animals/thumbnails/'

# Desired final size for all thumbnails (e.g., 100x100 pixels)
THUMBNAIL_SIZE = (100, 100)

# --- Ensure output directory exists ---
os.makedirs(OUTPUT_THUMBNAILS_DIR, exist_ok=True)

# --- Load cropping data from CSV ---
try:
    df = pd.read_csv(CSV_FILE)
    print(f"Loaded {len(df)} entries from {CSV_FILE}")
except FileNotFoundError:
    print(f"Error: CSV file not found at {CSV_FILE}")
    exit()
except Exception as e:
    print(f"Error reading CSV: {e}")
    exit()

# --- Process each image ---
for index, row in df.iterrows():
    filename = row['filename']
    x = int(row['x'])
    y = int(row['y'])
    height = int(row['height'])
    width = int(row['width'])

    original_image_path = os.path.join(ORIGINAL_IMAGES_DIR, filename)
    output_thumbnail_path = os.path.join(OUTPUT_THUMBNAILS_DIR, f"{os.path.splitext(filename)[0]}_thumb.jpg")

    try:
        # Open the original image
        with Image.open(original_image_path) as img:
            # Define the cropping box (left, upper, right, lower)
            # Pillow's crop method uses (left, upper, right, lower)
            # where right = left + width, and lower = upper + height
            crop_box = (x, y, x + width, y + height)

            # Crop the image
            cropped_img = img.crop(crop_box)

            # Resize the cropped image to the desired thumbnail size
            # Image.LANCZOS is a high-quality resampling filter
            resized_img = cropped_img.resize(THUMBNAIL_SIZE, Image.LANCZOS)

            # Save the thumbnail
            resized_img.save(output_thumbnail_path, "JPEG")
            print(f"Successfully processed: {filename} -> {os.path.basename(output_thumbnail_path)}")

    except FileNotFoundError:
        print(f"Warning: Original image not found for {filename} at {original_image_path}")
    except KeyError as ke:
        print(f"Error: Missing column in CSV for row {index}: {ke}")
    except ValueError as ve:
        print(f"Error: Invalid coordinate/dimension for {filename}: {ve}")
    except Exception as e:
        print(f"An unexpected error occurred while processing {filename}: {e}")

print("\nImage processing complete.")